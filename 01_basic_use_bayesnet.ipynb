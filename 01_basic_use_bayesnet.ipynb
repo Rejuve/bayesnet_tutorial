{
 "cells": [
  {
   "cell_type": "markdown",
   "id": "8550efa9",
   "metadata": {},
   "source": [
    "# Introduction to Bayes Expert\n",
    "\n",
    "Bayes Expert is a premier software by Rejuve.AI for creating Bayesian network models, including the Longevity Bayesian network model, which runs as a SingularityNET service. Bayes Expert allows scientists to crowdsource data and theories, contributing to research without needing data science expertise. Scientists can submit their data and theories through an online form, enhancing a hand-coded \"seed\" network. Traditionally requiring collaboration between data scientists and medical scientists, Bayes Expert democratizes the process, making Bayesian network modeling accessible to any scientist. Empowering members to actively contribute to pioneering research, pushing the boundaries of our understanding of aging and longevity.\n",
    "\n",
    "## Bayesian Network Utilities\n",
    "\n",
    "1. `var_deps`: Returns a dictionary mapping variable names to their dependencies.\n",
    "2. `fillcols`: Creates a hierarchical structure of variables based on their dependencies.\n",
    "3. `make_tree`: Constructs a hierarchical tree of the Bayesian network variables and returns it as a DataFrame.\n",
    "4. `complexity_check`: Checks the complexity of the Bayesian network against specified limits and returns a tuple (passes, errors).\n",
    "5. `get_var_positions`: Returns a dictionary mapping variable names to their positions.\n",
    "6. `get_var_val_positions`: Returns a dictionary mapping variable names to their value positions.\n",
    "7. `get_internal_var_val_positions`: Returns a dictionary mapping internal variable names to their value positions.\n",
    "8. `get_var_names`: Returns a dictionary mapping variable indices to their names.\n",
    "9. `get_var_val_names`: Returns a dictionary mapping variable names to their value names.\n",
    "10. `parse_net`: Parses a Bayesian network query and returns the parsed components.\n",
    "11. `detect_anomalies`: Detects anomalies in the given time series data using the specified Bayesian network and anomaly detection parameters.\n",
    "12. `readable`: Converts a response from the Bayesian network into a human-readable format.\n",
    "13. `create_query`: Creates a query for the Bayesian network.\n",
    "14. `get_template_priors`: Returns the template priors for the Bayesian network.\n",
    "15. `predict_proba_adjusted`: Predicts probabilities for the given evidence using the adjusted Bayesian network.\n",
    "16. `batch_query`: Executes a batch query on the Bayesian network.\n",
    "17. `query`: Executes a query on the Bayesian network.\n",
    "18. `explain_why_bad`: Explains why a result is bad.\n",
    "19. `explain_why_good`: Explains why a result is good.\n",
    "20. `internal_query`: Executes an internal query on the Bayesian network.\n",
    "21. `explain`: Provides an explanation for the given evidence and explanation list.\n",
    "22. `make_nmap`: Creates a mapping of value ranges.\n",
    "23. `dictVarsAndValues`: Returns a dictionary of variables and their values from the Bayesian network and CPT.\n",
    "24. `any_of`: Constructs a CPT where any of the input variables can lead to the output variable.\n",
    "25. `all_of`: Constructs a CPT where all of the input variables must lead to the output variable.\n",
    "26. `avg`: Constructs a CPT based on the average value of the input variables.\n",
    "27. `if_then_else`: Constructs a CPT based on if-then-else conditions.\n",
    "28. `addCpt`: Adds a CPT to the Bayesian network.\n",
    "29. `bayesInitialize`: Initializes the Bayesian network for use with Pomegranate.\n",
    "30. `non_cpt_descriptions`: Returns a description of the non-CPT parts of the Bayesian network.\n",
    "31. `get_priors`: Returns the priors for the Bayesian network.\n",
    "32. `get_frequencies`: Returns the frequencies of the keylist in the Bayesian network.\n",
    "33. `rr_prob_a_and_not_a_given_b_and_not_b`: Calculates the probabilities given relative risks.\n",
    "34. `ss_prob_a_and_not_a_given_b_and_not_b`: Calculates the probabilities given sensitivity and specificity.\n",
    "35. `prob_a_and_not_a_given_b_and_not_b`: Calculates the probabilities given invars, priors, and outvars.\n",
    "36. `get_good_vars`: Returns the good variables for the given variable.\n",
    "37. `get_rr_vals`: Returns the relative risk values for the given variable.\n",
    "38. `replace_rr`: Replaces the relative risk value in the invars.\n",
    "39. `dependency`: Constructs a dependency CPT based on the input variables and output variables.\n",
    "40. `align_ci`: Aligns the confidence interval.\n",
    "41. `normalize_ci`: Normalizes the confidence interval.\n",
    "42. `get_window`: Returns the window for the Bayesian network.\n",
    "43. `get_stat_info`: Returns the statistical information for the given variable and value.\n",
    "44. `validation`: Validates the given probability and condition value.\n",
    "45. `dependency_direct`: Directly constructs a dependency CPT based on the input variables and output variables."
   ]
  },
  {
   "cell_type": "markdown",
   "id": "77d5bc61",
   "metadata": {},
   "source": [
    "# Imports"
   ]
  },
  {
   "cell_type": "code",
   "execution_count": 1,
   "id": "f1bdf0d1",
   "metadata": {
    "ExecuteTime": {
     "end_time": "2024-06-24T12:44:47.714612Z",
     "start_time": "2024-06-24T12:44:46.200899Z"
    }
   },
   "outputs": [],
   "source": [
    "import qpsolvers\n",
    "import os\n",
    "from os.path import exists\n",
    "import pickle\n",
    "\n",
    "import sn_bayes\n",
    "from sn_bayes import longevity_bayes\n",
    "from sn_bayes.utils import complexity_check\n",
    "from sn_bayes.utils import get_var_positions\n",
    "from sn_bayes.utils import get_var_val_positions\n",
    "from sn_bayes.utils import make_tree\n",
    "from sn_bayes.utils import bayesInitialize\n",
    "from sn_bayes.utils import query\n",
    "from sn_bayes.utils import internal_query\n",
    "from sn_bayes.utils import internal_query\n",
    "from sn_bayes.utils import explain_why_bad\n",
    "from sn_bayes.utils import explain_why_good\n",
    "from sn_bayes.utils import create_query\n",
    "from sn_bayes.utils import var_deps\n",
    "from sn_bayes.utils import get_internal_var_val_positions\n",
    "from sn_bayes.utils import any_of\n",
    "from sn_bayes.utils import all_of\n",
    "from sn_bayes.utils import avg\n",
    "from sn_bayes.utils import if_then_else\n",
    "from sn_bayes.utils import bayesInitialize\n",
    "from sn_bayes.utils import addCpt\n",
    "from sn_bayes.utils import dependency\n",
    "from sn_bayes.utils import non_cpt_descriptions\n",
    "from sn_bayes.utils import fillcols\n",
    "\n",
    "import sn_service.service_spec.bayesian_pb2\n",
    "from sn_service.service_spec.bayesian_pb2 import Query\n",
    "import sn_service.service_spec.bayesian_pb2_grpc as grpc_bayes_grpc\n",
    "import sn_service.service_spec.bayesian_pb2\n",
    "from sn_service.service_spec.bayesian_pb2 import BayesianNetworkQuery\n",
    "from sn_service.service_spec.bayesian_pb2 import QueryId\n",
    "from sn_service.service_spec.bayesian_pb2 import Id\n",
    "from sn_service.service_spec.bayesian_pb2 import BayesianNetwork\n",
    "\n",
    "import grpc\n",
    "import pandas as pd\n",
    "import networkx as nx\n",
    "import time\n",
    "import re\n",
    "\n",
    "import matplotlib.pyplot as plt"
   ]
  },
  {
   "cell_type": "markdown",
   "id": "7b91511a",
   "metadata": {},
   "source": [
    "# Baking bayesianNetwork"
   ]
  },
  {
   "cell_type": "markdown",
   "id": "f537268d",
   "metadata": {},
   "source": [
    "## Bayesian Network Compilation with Pomegranate\n",
    "\n",
    "To compile the Bayesian network and compute probabilities with Pomegranate, use the following code. This script first checks if a serialized Bayesian network file (bayesianNetwork.pkl) exists. If it does, it loads the network from the file. If it doesn't, it generates the network using the longevity_bayes function, saves it to a file, and then initializes and bakes the network for probability computation. Finally, it predicts and prints the probabilities of all variables with no initial evidence."
   ]
  },
  {
   "cell_type": "code",
   "execution_count": null,
   "id": "9ed9b57e",
   "metadata": {
    "ExecuteTime": {
     "end_time": "2024-06-20T17:05:58.995306Z",
     "start_time": "2024-06-20T17:05:54.756183Z"
    }
   },
   "outputs": [],
   "source": [
    "# Check if the Bayesian network file exists\n",
    "if os.path.exists(\"bayesianNetwork.pkl\"):\n",
    "    with open(\"bayesianNetwork.pkl\", 'rb') as infile:\n",
    "        bayesianNetwork = pickle.load(infile)\n",
    "else:\n",
    "    # If the file does not exist, generate the Bayesian network\n",
    "    %time bayesianNetwork, outstr = longevity_bayes.longevity_bayes()\n",
    "    print(outstr)\n",
    "    with open(\"bayesianNetwork.pkl\", 'wb') as outfile:\n",
    "        pickle.dump(bayesianNetwork, outfile)\n",
    "\n",
    "# Initialize the Bayesian network with the bayesInitialize function\n",
    "longevity = bayesInitialize(bayesianNetwork)\n",
    "# Bake the network to finalize its structure\n",
    "longevity.bake()\n",
    "# Predict probabilities for all variables with no initial evidence\n",
    "predicted_probabilities = longevity.predict_proba({})"
   ]
  },
  {
   "cell_type": "markdown",
   "id": "9d6b821a",
   "metadata": {},
   "source": [
    "# Utils functions"
   ]
  },
  {
   "cell_type": "markdown",
   "id": "3c67a423",
   "metadata": {},
   "source": [
    "## var_deps\n",
    "\n",
    "The `var_deps` function constructs a dictionary that maps each variable in a Bayesian network to its dependencies. It takes an object `bayesianNetwork` as input, which contains `discreteDistributions` and `conditionalProbabilityTables`. The function initializes an empty dictionary var_deps. It first iterates over the discreteDistributions in the network, adding each distribution's name to var_deps with an empty list, indicating no dependencies. Next, it processes the `conditionalProbabilityTables` by adding each table's name to var_deps with an empty list and then appending the names of its `randomVariables` (dependencies) to this list. The function finally returns the populated `var_deps` dictionary, which provides a clear mapping of each variable to its dependencies within the Bayesian network. For example, if the network has discrete distributions A and B, and CPTs C (dependent on A and B) and D (dependent on B), the function will output \n",
    "\n",
    "`{'A': [], 'B': [], 'C': ['A', 'B'], 'D': ['B']}`"
   ]
  },
  {
   "cell_type": "code",
   "execution_count": null,
   "id": "1f5e0103",
   "metadata": {
    "ExecuteTime": {
     "end_time": "2024-06-24T11:27:20.955140Z",
     "start_time": "2024-06-24T11:27:20.947788Z"
    }
   },
   "outputs": [],
   "source": [
    "variable_dependencies = var_deps(bayesianNetwork)"
   ]
  },
  {
   "cell_type": "code",
   "execution_count": null,
   "id": "4d835c80",
   "metadata": {
    "ExecuteTime": {
     "end_time": "2024-06-20T17:05:59.041305Z",
     "start_time": "2024-06-20T17:05:59.012307Z"
    }
   },
   "outputs": [],
   "source": [
    "variable_dependencies"
   ]
  },
  {
   "cell_type": "markdown",
   "id": "0082b22b",
   "metadata": {},
   "source": [
    "## fillcols\n",
    "\n",
    "The `fillcols` function organizes variables from a Bayesian network into a hierarchical structure based on their dependencies, returning this structure as a list of lists. It begins by creating a deep copy of the input dictionary `var_dict` to avoid modifying the original, and initializes an empty list `tree_list` to store the hierarchy. The function iteratively processes `var_deps`, which holds the dependencies, until all variables are organized. During each iteration, it initializes `next_level` to hold the variables for the current level and deletes to track variables that have been processed. It then checks if all dependencies of each variable are already included in tree_list. If a variable's dependencies are satisfied, it is added to `next_level` and marked for deletion. After processing all variables, those marked for deletion are removed from var_deps. This process continues until no more variables can be added (`final_len` matches `initial_len`). The resulting hierarchical structure, where each sublist represents a level of variables whose dependencies are satisfied by the previous levels, is returned. For example, if `var_dict` is `{'A': [], 'B': ['A'], 'C': ['A'], 'D': ['B', 'C']}`, the function will output `[['A'], ['B', 'C'], ['D']]`, indicating that A has no dependencies, B and C depend on A, and D depends on both B and C.\n",
    "\n"
   ]
  },
  {
   "cell_type": "code",
   "execution_count": null,
   "id": "e0827220",
   "metadata": {
    "ExecuteTime": {
     "end_time": "2024-06-20T17:05:59.057307Z",
     "start_time": "2024-06-20T17:05:59.042305Z"
    }
   },
   "outputs": [],
   "source": [
    "tree_list = fillcols(var_dict = variable_dependencies)"
   ]
  },
  {
   "cell_type": "code",
   "execution_count": null,
   "id": "6b9623af",
   "metadata": {
    "ExecuteTime": {
     "end_time": "2024-06-20T17:05:59.073306Z",
     "start_time": "2024-06-20T17:05:59.059306Z"
    }
   },
   "outputs": [],
   "source": [
    "tree_list"
   ]
  },
  {
   "cell_type": "markdown",
   "id": "472723f2",
   "metadata": {},
   "source": [
    "## make_tree\n",
    "\n",
    "The `make_tree` function constructs a hierarchical tree structure of a Bayesian network's variables and returns it as a DataFrame. It first calls the `var_deps` function to obtain a dictionary of variable dependencies from the `bayesianNetwork`. It then prints this dictionary for verification. Using the `fillcols` function, it organizes these dependencies into a hierarchical list called `tree`, which is also printed for verification. The function proceeds to build a new tree structure, `newtree`, where each variable is appended with its dependencies in parentheses. It iterates through each level (`ply`) of the `tree`, and for each variable (`v`), it constructs a string `newstr` containing the variable name followed by its dependencies, separated by commas. This string is appended to `newl`, which is then added to `newtree`.\n",
    "\n",
    "The function creates a dictionary `df_dict` to store the hierarchical structure, where each level is a key-value pair with the key formatted as `level{n}` and the value being the list of variables at that level. This dictionary is converted into a DataFrame `df` using `pd.DataFrame.from_dict`. If the `connections` parameter is set to `False`, the function removes the dependency details from the variable names using a regex replace operation. The final DataFrame `df`, which represents the hierarchical structure of the Bayesian network variables, is returned. For instance, if the `bayesianNetwork` has variables `A`, `B` (dependent on `A`), `C` (dependent on `A`), and `D` (dependent on both `B` and `C`), the function would output a DataFrame representing this hierarchy."
   ]
  },
  {
   "cell_type": "code",
   "execution_count": null,
   "id": "31482ffd",
   "metadata": {
    "ExecuteTime": {
     "end_time": "2024-06-20T17:05:59.089307Z",
     "start_time": "2024-06-20T17:05:59.074311Z"
    }
   },
   "outputs": [],
   "source": [
    "bayestree = make_tree(bayesianNetwork)"
   ]
  },
  {
   "cell_type": "markdown",
   "id": "9a5471e4",
   "metadata": {},
   "source": [
    "## complexity_check\n",
    "\n",
    "The `complexity_check` function evaluates a Bayesian network to ensure it meets specified complexity constraints and returns whether it passes these checks along with any error messages. The function takes a `bayesianNetwork` object and optional parameters for maximum size in bytes, allowed number of nodes, allowed number of variables, and allowed number of variable values.\n",
    "\n",
    "First, it initializes `passes` to `True` and an empty list `messages` to collect error messages. The function calculates the size of the Bayesian network using `bayesianNetwork.ByteSize()`. If the size exceeds the `max_size_in_bytes` limit, `passes` is set to `False`, and an error message is added to `messages`.\n",
    "\n",
    "Next, the function calls `get_var_val_positions` to obtain a dictionary mapping variable names to their value positions and calculates the number of nodes (`num_nodes`). If `num_nodes` exceeds `allowed_number_nodes`, it updates `passes` to `False` and appends an appropriate message to `messages`.\n",
    "\n",
    "The function then determines the maximum number of variable values (`maxvarval`) from the lengths of the lists in `var_val_positions`. If `maxvarval` exceeds `allowed_number_variable_values`, it sets `passes` to `False` and logs this in `messages`.\n",
    "\n",
    "Lastly, the function iterates over each conditional probability table in `bayesianNetwork.conditionalProbabilityTables` to check the number of dependencies (`numvars`). If any table has more dependencies than `allowed_number_variables`, `passes` is set to `False`, and a corresponding message is added.\n",
    "\n",
    "After all checks, the function joins all collected messages into a single string `errors` and returns a tuple `(passes, errors)`, indicating whether the network passed the checks and any error messages generated."
   ]
  },
  {
   "cell_type": "code",
   "execution_count": null,
   "id": "e5e85e2c",
   "metadata": {
    "ExecuteTime": {
     "end_time": "2024-06-20T17:41:13.611868Z",
     "start_time": "2024-06-20T17:41:13.542868Z"
    }
   },
   "outputs": [],
   "source": [
    "#\n",
    "passes,errors = complexity_check(bayesianNetwork)"
   ]
  },
  {
   "cell_type": "markdown",
   "id": "91b7e61b",
   "metadata": {},
   "source": [
    "## get_var_positions\n",
    "\n",
    "The `get_var_positions` function creates a dictionary that maps each variable in a Bayesian network to its position index, ensuring no variable names are duplicated. The function initializes an empty dictionary `var_positions` and an empty set `check_for_repeats` to track variable names that have been processed.\n",
    "\n",
    "First, the function iterates over `bayesianNetwork.discreteDistributions` using `enumerate` to get both the index `i` and the distribution `dist`. It assigns the current index `i` to `dist.name` in `var_positions`. If `dist.name` is already in `check_for_repeats`, it prints a message indicating a duplicate instance. Otherwise, it adds `dist.name` to `check_for_repeats`.\n",
    "\n",
    "Next, it calculates the starting index for conditional probability tables as the current length of `var_positions` (`start = len(var_positions)`). It then iterates over `bayesianNetwork.conditionalProbabilityTables`, again using `enumerate`, and assigns an index starting from `start` to each table's name. If a table's name is already in `check_for_repeats`, it prints a message about the duplicate instance. Otherwise, it adds the table's name to `check_for_repeats`.\n",
    "\n",
    "Finally, the function returns the populated `var_positions` dictionary, which maps each variable name in the Bayesian network to its unique index position. This dictionary helps in identifying the positions of variables efficiently without duplicates."
   ]
  },
  {
   "cell_type": "code",
   "execution_count": null,
   "id": "b76b5684",
   "metadata": {
    "ExecuteTime": {
     "end_time": "2024-06-20T17:05:59.169306Z",
     "start_time": "2024-06-20T17:05:59.154306Z"
    }
   },
   "outputs": [],
   "source": [
    "#\n",
    "var_positions = get_var_positions(bayesianNetwork)"
   ]
  },
  {
   "cell_type": "markdown",
   "id": "cf28e52a",
   "metadata": {},
   "source": [
    "## get_var_val_positions"
   ]
  },
  {
   "cell_type": "code",
   "execution_count": null,
   "id": "f8afe41f",
   "metadata": {
    "ExecuteTime": {
     "end_time": "2024-06-20T17:05:59.185306Z",
     "start_time": "2024-06-20T17:05:59.170309Z"
    }
   },
   "outputs": [],
   "source": [
    "#\n",
    "var_val_positions = get_var_val_positions(bayesianNetwork)"
   ]
  },
  {
   "cell_type": "markdown",
   "id": "e4c6e898",
   "metadata": {},
   "source": [
    "## get_internal_var_val_positions"
   ]
  },
  {
   "cell_type": "code",
   "execution_count": null,
   "id": "bd7bc5f3",
   "metadata": {
    "ExecuteTime": {
     "end_time": "2024-06-20T17:05:59.201306Z",
     "start_time": "2024-06-20T17:05:59.186307Z"
    }
   },
   "outputs": [],
   "source": [
    "internal_var_val_positions = get_internal_var_val_positions(bayesianNetwork)"
   ]
  },
  {
   "cell_type": "markdown",
   "id": "6a94a632",
   "metadata": {},
   "source": []
  },
  {
   "cell_type": "markdown",
   "id": "ad0b8dec",
   "metadata": {},
   "source": [
    "## get_var_names"
   ]
  },
  {
   "cell_type": "code",
   "execution_count": null,
   "id": "4140aaf0",
   "metadata": {},
   "outputs": [],
   "source": []
  },
  {
   "cell_type": "markdown",
   "id": "b1584302",
   "metadata": {},
   "source": [
    "## get_var_val_names"
   ]
  },
  {
   "cell_type": "code",
   "execution_count": null,
   "id": "a628d0d3",
   "metadata": {},
   "outputs": [],
   "source": []
  },
  {
   "cell_type": "markdown",
   "id": "7a05fb04",
   "metadata": {},
   "source": [
    "## parse_net"
   ]
  },
  {
   "cell_type": "code",
   "execution_count": null,
   "id": "27ea9704",
   "metadata": {},
   "outputs": [],
   "source": []
  },
  {
   "cell_type": "markdown",
   "id": "e311b29a",
   "metadata": {},
   "source": [
    "## detect_anomalies"
   ]
  },
  {
   "cell_type": "code",
   "execution_count": null,
   "id": "a4a91a7f",
   "metadata": {},
   "outputs": [],
   "source": []
  },
  {
   "cell_type": "markdown",
   "id": "83c17b85",
   "metadata": {},
   "source": [
    "## readable"
   ]
  },
  {
   "cell_type": "code",
   "execution_count": null,
   "id": "3a578835",
   "metadata": {},
   "outputs": [],
   "source": []
  },
  {
   "cell_type": "markdown",
   "id": "18f6ca91",
   "metadata": {},
   "source": [
    "## create_query"
   ]
  },
  {
   "cell_type": "code",
   "execution_count": null,
   "id": "14bd9a66",
   "metadata": {},
   "outputs": [],
   "source": []
  },
  {
   "cell_type": "markdown",
   "id": "0dee044f",
   "metadata": {},
   "source": [
    "## get_template_priors"
   ]
  },
  {
   "cell_type": "markdown",
   "id": "1acbe37c",
   "metadata": {},
   "source": []
  },
  {
   "cell_type": "markdown",
   "id": "646eb6f4",
   "metadata": {},
   "source": [
    "## predict_proba_adjusted"
   ]
  },
  {
   "cell_type": "code",
   "execution_count": null,
   "id": "1e553322",
   "metadata": {},
   "outputs": [],
   "source": []
  },
  {
   "cell_type": "markdown",
   "id": "8cbbd232",
   "metadata": {},
   "source": [
    "## batch_query"
   ]
  },
  {
   "cell_type": "code",
   "execution_count": null,
   "id": "a7ab370d",
   "metadata": {},
   "outputs": [],
   "source": []
  },
  {
   "cell_type": "markdown",
   "id": "eefea445",
   "metadata": {},
   "source": [
    "## query"
   ]
  },
  {
   "cell_type": "code",
   "execution_count": null,
   "id": "c25a8e42",
   "metadata": {},
   "outputs": [],
   "source": []
  },
  {
   "cell_type": "markdown",
   "id": "d30e392f",
   "metadata": {},
   "source": [
    "## explain_why_bad"
   ]
  },
  {
   "cell_type": "code",
   "execution_count": null,
   "id": "d9256c0a",
   "metadata": {},
   "outputs": [],
   "source": []
  },
  {
   "cell_type": "markdown",
   "id": "2a645141",
   "metadata": {},
   "source": [
    "## explain_why_good"
   ]
  },
  {
   "cell_type": "code",
   "execution_count": null,
   "id": "a2db274f",
   "metadata": {},
   "outputs": [],
   "source": []
  },
  {
   "cell_type": "markdown",
   "id": "126468b2",
   "metadata": {},
   "source": [
    "## internal_query"
   ]
  },
  {
   "cell_type": "code",
   "execution_count": null,
   "id": "c800668e",
   "metadata": {},
   "outputs": [],
   "source": []
  },
  {
   "cell_type": "markdown",
   "id": "08573633",
   "metadata": {},
   "source": [
    "## explain"
   ]
  },
  {
   "cell_type": "code",
   "execution_count": null,
   "id": "cb962908",
   "metadata": {},
   "outputs": [],
   "source": []
  },
  {
   "cell_type": "markdown",
   "id": "5090d761",
   "metadata": {},
   "source": [
    "## make_nmap"
   ]
  },
  {
   "cell_type": "code",
   "execution_count": null,
   "id": "64cfa620",
   "metadata": {},
   "outputs": [],
   "source": []
  },
  {
   "cell_type": "markdown",
   "id": "e7b7c5a3",
   "metadata": {},
   "source": [
    "## any_of"
   ]
  },
  {
   "cell_type": "code",
   "execution_count": null,
   "id": "a15d9a79",
   "metadata": {},
   "outputs": [],
   "source": []
  },
  {
   "cell_type": "markdown",
   "id": "f8086952",
   "metadata": {},
   "source": [
    "## dictVarsAndValues"
   ]
  },
  {
   "cell_type": "code",
   "execution_count": null,
   "id": "da86fab1",
   "metadata": {},
   "outputs": [],
   "source": []
  },
  {
   "cell_type": "markdown",
   "id": "5b145739",
   "metadata": {},
   "source": [
    "## all_of"
   ]
  },
  {
   "cell_type": "code",
   "execution_count": null,
   "id": "c9575ccf",
   "metadata": {},
   "outputs": [],
   "source": []
  },
  {
   "cell_type": "markdown",
   "id": "659beb3d",
   "metadata": {},
   "source": [
    "## avg"
   ]
  },
  {
   "cell_type": "code",
   "execution_count": null,
   "id": "cb38fe15",
   "metadata": {},
   "outputs": [],
   "source": []
  },
  {
   "cell_type": "markdown",
   "id": "4c7d97b4",
   "metadata": {},
   "source": [
    "## if_then_else"
   ]
  },
  {
   "cell_type": "code",
   "execution_count": null,
   "id": "576f0551",
   "metadata": {},
   "outputs": [],
   "source": []
  },
  {
   "cell_type": "markdown",
   "id": "101f5288",
   "metadata": {},
   "source": [
    "## addCpt"
   ]
  },
  {
   "cell_type": "code",
   "execution_count": null,
   "id": "415a708a",
   "metadata": {},
   "outputs": [],
   "source": []
  },
  {
   "cell_type": "markdown",
   "id": "8b53e4e3",
   "metadata": {},
   "source": [
    "## bayesInitialize"
   ]
  },
  {
   "cell_type": "code",
   "execution_count": null,
   "id": "055ac0f8",
   "metadata": {},
   "outputs": [],
   "source": []
  },
  {
   "cell_type": "markdown",
   "id": "eb2b1b8e",
   "metadata": {},
   "source": [
    "## non_cpt_descriptions"
   ]
  },
  {
   "cell_type": "code",
   "execution_count": null,
   "id": "0ec0736d",
   "metadata": {},
   "outputs": [],
   "source": []
  },
  {
   "cell_type": "markdown",
   "id": "3ac2686c",
   "metadata": {},
   "source": [
    "## get_priors"
   ]
  },
  {
   "cell_type": "code",
   "execution_count": null,
   "id": "27a5aa2e",
   "metadata": {},
   "outputs": [],
   "source": []
  },
  {
   "cell_type": "markdown",
   "id": "3cb175d7",
   "metadata": {},
   "source": [
    "## get_frequencies"
   ]
  },
  {
   "cell_type": "code",
   "execution_count": null,
   "id": "fcaec596",
   "metadata": {},
   "outputs": [],
   "source": []
  },
  {
   "cell_type": "markdown",
   "id": "fc4aaff1",
   "metadata": {},
   "source": [
    "## rr_prob_a_and_not_a_given_b_and_not_b"
   ]
  },
  {
   "cell_type": "code",
   "execution_count": null,
   "id": "8bb2f8ff",
   "metadata": {},
   "outputs": [],
   "source": []
  },
  {
   "cell_type": "markdown",
   "id": "061a9dc8",
   "metadata": {},
   "source": [
    "## ss_prob_a_and_not_a_given_b_and_not_b"
   ]
  },
  {
   "cell_type": "code",
   "execution_count": null,
   "id": "34c0d14b",
   "metadata": {},
   "outputs": [],
   "source": []
  },
  {
   "cell_type": "markdown",
   "id": "0e7f95c7",
   "metadata": {},
   "source": [
    "## prob_a_and_not_a_given_b_and_not_b"
   ]
  },
  {
   "cell_type": "code",
   "execution_count": null,
   "id": "09d492f4",
   "metadata": {},
   "outputs": [],
   "source": []
  },
  {
   "cell_type": "markdown",
   "id": "fe184e06",
   "metadata": {},
   "source": [
    "## get_good_vars"
   ]
  },
  {
   "cell_type": "code",
   "execution_count": null,
   "id": "38684fd8",
   "metadata": {},
   "outputs": [],
   "source": []
  },
  {
   "cell_type": "markdown",
   "id": "b1b4e0e4",
   "metadata": {},
   "source": [
    "## get_rr_vals"
   ]
  },
  {
   "cell_type": "code",
   "execution_count": null,
   "id": "0c14b21c",
   "metadata": {},
   "outputs": [],
   "source": []
  },
  {
   "cell_type": "markdown",
   "id": "a18b0bfc",
   "metadata": {},
   "source": [
    "## replace_rr"
   ]
  },
  {
   "cell_type": "code",
   "execution_count": null,
   "id": "c73e1ab0",
   "metadata": {},
   "outputs": [],
   "source": []
  },
  {
   "cell_type": "markdown",
   "id": "054aa796",
   "metadata": {},
   "source": [
    "## dependency"
   ]
  },
  {
   "cell_type": "code",
   "execution_count": null,
   "id": "4beb7666",
   "metadata": {},
   "outputs": [],
   "source": []
  },
  {
   "cell_type": "markdown",
   "id": "7bdcf84e",
   "metadata": {},
   "source": [
    "## align_ci"
   ]
  },
  {
   "cell_type": "code",
   "execution_count": null,
   "id": "a7b34413",
   "metadata": {},
   "outputs": [],
   "source": []
  },
  {
   "cell_type": "markdown",
   "id": "d9b0c4f3",
   "metadata": {},
   "source": [
    "## normalize_ci"
   ]
  },
  {
   "cell_type": "code",
   "execution_count": null,
   "id": "2d60fcda",
   "metadata": {},
   "outputs": [],
   "source": []
  },
  {
   "cell_type": "markdown",
   "id": "7fb2d13c",
   "metadata": {},
   "source": [
    "## get_window"
   ]
  },
  {
   "cell_type": "code",
   "execution_count": null,
   "id": "a5cb7390",
   "metadata": {},
   "outputs": [],
   "source": []
  },
  {
   "cell_type": "markdown",
   "id": "92fa3363",
   "metadata": {},
   "source": [
    "## get_stat_info"
   ]
  },
  {
   "cell_type": "code",
   "execution_count": null,
   "id": "d48f12f3",
   "metadata": {},
   "outputs": [],
   "source": []
  },
  {
   "cell_type": "markdown",
   "id": "dab2b347",
   "metadata": {},
   "source": [
    "## validation"
   ]
  },
  {
   "cell_type": "code",
   "execution_count": null,
   "id": "06388347",
   "metadata": {},
   "outputs": [],
   "source": []
  },
  {
   "cell_type": "markdown",
   "id": "b337f691",
   "metadata": {},
   "source": [
    "## dependency_direct"
   ]
  },
  {
   "cell_type": "code",
   "execution_count": 2,
   "id": "ee2df1a4",
   "metadata": {
    "ExecuteTime": {
     "end_time": "2024-06-24T12:44:49.724516Z",
     "start_time": "2024-06-24T12:44:49.704627Z"
    }
   },
   "outputs": [],
   "source": [
    "bayesianNetwork = BayesianNetwork()\n",
    "\n",
    "discreteDistribution = bayesianNetwork.discreteDistributions.add()\n",
    "discreteDistribution.name = \"angina\"\n",
    "variable = discreteDistribution.variables.add()\n",
    "variable.name = \"angina_yes\"\n",
    "variable.probability = 0.03\n",
    "variable = discreteDistribution.variables.add()\n",
    "variable.name = \"angina_no\"\n",
    "variable.probability = 0.97\n",
    "\n",
    "discreteDistribution = bayesianNetwork.discreteDistributions.add()\n",
    "discreteDistribution.name = \"age\"\n",
    "variable = discreteDistribution.variables.add()\n",
    "variable.name = \"elderly\"\n",
    "variable.probability = 0.05\n",
    "variable = discreteDistribution.variables.add()\n",
    "variable.name = \"adult\"\n",
    "variable.probability = 0.25\n",
    "variable = discreteDistribution.variables.add()\n",
    "variable.name = \"young_adult\"\n",
    "variable.probability = 0.3\n",
    "variable = discreteDistribution.variables.add()\n",
    "variable.name = \"teen\"\n",
    "variable.probability = 0.2\n",
    "variable = discreteDistribution.variables.add()\n",
    "variable.name = \"child\"\n",
    "variable.probability = 0.25"
   ]
  },
  {
   "cell_type": "code",
   "execution_count": 10,
   "id": "d86b02ea",
   "metadata": {
    "ExecuteTime": {
     "end_time": "2024-06-24T12:50:11.280317Z",
     "start_time": "2024-06-24T12:50:11.270296Z"
    }
   },
   "outputs": [
    {
     "data": {
      "text/plain": [
       "{'angina': ([['elderly', 'angina_yes', 0.0649889369371378],\n",
       "   ['elderly', 'angina_no', 0.9350110630628622],\n",
       "   ['adult', 'angina_yes', 0.027729624456249904],\n",
       "   ['adult', 'angina_no', 0.9722703755437501],\n",
       "   ['young_adult', 'angina_yes', 0.03316272384316883],\n",
       "   ['young_adult', 'angina_no', 0.9668372761568311],\n",
       "   ['teen', 'angina_yes', 0.022185290713900237],\n",
       "   ['teen', 'angina_no', 0.9778147092860998],\n",
       "   ['child', 'angina_yes', 0.027729624457416144],\n",
       "   ['child', 'angina_no', 0.9722703755425839]],\n",
       "  ['age'],\n",
       "  {'angina_yes': 0.03, 'angina_no': 0.97},\n",
       "  'Against the baseline risks, the relative risk that {0} will be angina_yes for those in the age category of elderly is 2.3.')}"
      ]
     },
     "execution_count": 10,
     "metadata": {},
     "output_type": "execute_result"
    }
   ],
   "source": [
    "cpt"
   ]
  },
  {
   "cell_type": "code",
   "execution_count": 5,
   "id": "be862792",
   "metadata": {
    "ExecuteTime": {
     "end_time": "2024-06-24T12:45:38.398222Z",
     "start_time": "2024-06-24T12:45:38.376256Z"
    }
   },
   "outputs": [
    {
     "name": "stdout",
     "output_type": "stream",
     "text": [
      "start timing...\n",
      "start timing...\n",
      "[({'age': ['elderly']}, {'relative_risk': 2.3})] ==> {'angina_yes': 0.03, 'angina_no': 0.97} took 0.01498579999999805 seconds\n",
      "{'angina_yes': 0.03, 'angina_no': 0.97}  wrapper took 0.015030299999999386 seconds\n"
     ]
    },
    {
     "name": "stderr",
     "output_type": "stream",
     "text": [
      "C:\\Users\\Osvaldo\\anaconda3\\lib\\site-packages\\qpsolvers\\conversions\\ensure_sparse_matrices.py:24: UserWarning: Converted P to scipy.sparse.csc.csc_matrix\n",
      "For best performance, build P as a scipy.sparse.csc_matrix rather than as a numpy.ndarray\n",
      "  warnings.warn(\n",
      "C:\\Users\\Osvaldo\\anaconda3\\lib\\site-packages\\qpsolvers\\conversions\\ensure_sparse_matrices.py:24: UserWarning: Converted G to scipy.sparse.csc.csc_matrix\n",
      "For best performance, build G as a scipy.sparse.csc_matrix rather than as a numpy.ndarray\n",
      "  warnings.warn(\n",
      "C:\\Users\\Osvaldo\\anaconda3\\lib\\site-packages\\qpsolvers\\conversions\\ensure_sparse_matrices.py:24: UserWarning: Converted A to scipy.sparse.csc.csc_matrix\n",
      "For best performance, build A as a scipy.sparse.csc_matrix rather than as a numpy.ndarray\n",
      "  warnings.warn(\n"
     ]
    }
   ],
   "source": [
    "cpt = {}\n",
    "outstr = ''\n",
    "outstr = outstr + addCpt(bayesianNetwork,cpt) \n",
    "\n",
    "cpt[\"angina\"] = dependency(bayesianNetwork,cpt,\n",
    "[\n",
    "({\"age\":[\"elderly\"]},{\"relative_risk\":2.3})\n",
    "],\n",
    "{\"angina_yes\":0.03,\"angina_no\":0.97}\n",
    ")"
   ]
  },
  {
   "cell_type": "code",
   "execution_count": null,
   "id": "d0022819",
   "metadata": {
    "ExecuteTime": {
     "end_time": "2024-06-20T17:05:59.217307Z",
     "start_time": "2024-06-20T17:05:59.202308Z"
    }
   },
   "outputs": [],
   "source": [
    "# We create a spreadsheet of the above for reference\n",
    "rows_list = []\n",
    "outname = \"varvals.csv\"\n",
    "for var, valdict in var_val_positions.items():\n",
    "    rowdict = {} \n",
    "    rows_list.append(rowdict)\n",
    "    varstr= var +\"(\"\n",
    "    for val, pos in valdict.items():\n",
    "        varstr += val\n",
    "        varstr+= \",\"\n",
    "            \n",
    "    varstr=varstr[:-1]+\")\"\n",
    "    rowdict[\"variable\"] = varstr        \n",
    "#\n",
    "df = pd.DataFrame(rows_list)      \n",
    "# df.to_csv(outname, index = False)"
   ]
  },
  {
   "cell_type": "code",
   "execution_count": null,
   "id": "7f5e9f5f",
   "metadata": {
    "ExecuteTime": {
     "end_time": "2024-06-20T17:06:01.930617Z",
     "start_time": "2024-06-20T17:05:59.218307Z"
    }
   },
   "outputs": [],
   "source": [
    "G = nx.DiGraph()\n",
    "regex = re.compile(r'^([a-z_]*)\\(.*')\n",
    "for index, row in df.iterrows():\n",
    "    for col in df.columns:\n",
    "        if row[col] is not None:\n",
    "            node = row[col][:-1] if col == \"level0\" else row[col]\n",
    "            G.add_node(node)           \n",
    "for node1 in G.nodes:\n",
    "    for node2 in G.nodes:\n",
    "        match = regex.match(node1)\n",
    "        if (node1+',' in node2) or (match is not None and match.group(1)+\",\" in node2): \n",
    "            G.add_edge(node1,node2)\n",
    "#             if match is not None and match.group(1)+\",\" in node2:\n",
    "#                 print (node1)\n",
    "#                 print(node2)    \n",
    "#\n",
    "plt.figure(3,figsize=(12,12)) \n",
    "#nx.draw(G, with_labels=True)  \n",
    "#nx.draw_random(G, with_labels=True)   \n",
    "nx.draw_circular(G, with_labels=True)  \n",
    "#nx.draw_spectral(G, with_labels=True)   \n",
    "#nx.draw_spring(G, with_labels=True)  "
   ]
  }
 ],
 "metadata": {
  "hide_input": false,
  "kernelspec": {
   "display_name": "Python 3 (ipykernel)",
   "language": "python",
   "name": "python3"
  },
  "language_info": {
   "codemirror_mode": {
    "name": "ipython",
    "version": 3
   },
   "file_extension": ".py",
   "mimetype": "text/x-python",
   "name": "python",
   "nbconvert_exporter": "python",
   "pygments_lexer": "ipython3",
   "version": "3.9.13"
  },
  "toc": {
   "base_numbering": 1,
   "nav_menu": {},
   "number_sections": true,
   "sideBar": true,
   "skip_h1_title": false,
   "title_cell": "Table of Contents",
   "title_sidebar": "Contents",
   "toc_cell": false,
   "toc_position": {
    "height": "calc(100% - 180px)",
    "left": "10px",
    "top": "150px",
    "width": "279.273px"
   },
   "toc_section_display": true,
   "toc_window_display": true
  }
 },
 "nbformat": 4,
 "nbformat_minor": 5
}
